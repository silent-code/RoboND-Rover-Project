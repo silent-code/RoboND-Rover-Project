{
 "cells": [
  {
   "cell_type": "code",
   "execution_count": 3,
   "metadata": {},
   "outputs": [
    {
     "data": {
      "text/plain": [
       "<matplotlib.image.AxesImage at 0x118dd6fd0>"
      ]
     },
     "execution_count": 3,
     "metadata": {},
     "output_type": "execute_result"
    },
    {
     "data": {
      "image/png": "[encoded data removed]",
      "text/plain": [
       "<Figure size 432x288 with 1 Axes>"
      ]
     },
     "metadata": {},
     "output_type": "display_data"
    }
   ],
   "source": [
    "%matplotlib inline\n",
    "import matplotlib.pyplot as plt\n",
    "import matplotlib.image as mpimg\n",
    "import numpy as np\n",
    "import cv2 as cv\n",
    "\n",
    "def color_thresh_rock_sample(img, lower_yellow=[20,20,100], upper_yellow=[255,255,205]):\n",
    "    # Convert BGR to HSV\n",
    "    hsv = cv.cvtColor(img, cv.COLOR_RGB2HSV)\n",
    "    # define range of blue color in HSV\n",
    "    #lower_yellow = np.array([20,20,100])\n",
    "    #upper_yellow = np.array([255,255,205])\n",
    "    # Threshold the HSV image to get only yellow colors\n",
    "    mask = cv.inRange(hsv, lower_yellow, upper_yellow)\n",
    "    binary_img = np.zeros_like(img[:,:,0])\n",
    "    binary_img[mask > 0] = 1\n",
    "    #plt.imshow(image)\n",
    "    #plt.imshow(binary_img)\n",
    "    #plt.imshow(res)\n",
    "    return binary_img\n",
    "\n",
    "# Read in the sample image\n",
    "img = mpimg.imread('/Users/tz/RoboND-Rover-Project/calibration_images/example_rock1.jpg')\n",
    "# define range of yellow color in RGB image\n",
    "lower_yellow = np.array([20,20,100])\n",
    "upper_yellow = np.array([255,255,205])\n",
    "binary_img = color_thresh_rock_sample(img, lower_yellow=lower_yellow, upper_yellow=upper_yellow)\n",
    "plt.imshow(binary_img)"
   ]
  },
  {
   "cell_type": "code",
   "execution_count": 82,
   "metadata": {},
   "outputs": [],
   "source": [
    "binary_img[mask>0] = 1"
   ]
  },
  {
   "cell_type": "code",
   "execution_count": 83,
   "metadata": {},
   "outputs": [
    {
     "data": {
      "text/plain": [
       "1"
      ]
     },
     "execution_count": 83,
     "metadata": {},
     "output_type": "execute_result"
    }
   ],
   "source": [
    "np.max(np.max(binary_img))"
   ]
  },
  {
   "cell_type": "code",
   "execution_count": null,
   "metadata": {},
   "outputs": [],
   "source": []
  }
 ],
 "metadata": {
  "kernelspec": {
   "display_name": "Python [conda env:RoboND]",
   "language": "python",
   "name": "conda-env-RoboND-py"
  },
  "language_info": {
   "codemirror_mode": {
    "name": "ipython",
    "version": 3
   },
   "file_extension": ".py",
   "mimetype": "text/x-python",
   "name": "python",
   "nbconvert_exporter": "python",
   "pygments_lexer": "ipython3",
   "version": "3.5.2"
  },
  "widgets": {
   "state": {},
   "version": "1.1.2"
  }
 },
 "nbformat": 4,
 "nbformat_minor": 2
}
