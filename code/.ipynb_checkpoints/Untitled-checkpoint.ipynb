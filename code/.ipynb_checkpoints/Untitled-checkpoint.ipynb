{
 "cells": [
  {
   "cell_type": "code",
   "execution_count": null,
   "metadata": {},
   "outputs": [],
   "source": [
    "run drive_rover.py"
   ]
  },
  {
   "cell_type": "code",
   "execution_count": 12,
   "metadata": {},
   "outputs": [
    {
     "data": {
      "image/png": "[encoded data removed]",
      "text/plain": [
       "<Figure size 432x288 with 1 Axes>"
      ]
     },
     "metadata": {},
     "output_type": "display_data"
    }
   ],
   "source": [
    "%matplotlib inline\n",
    "import matplotlib.pyplot as plt\n",
    "import matplotlib.image as mpimg\n",
    "# Uncomment the next line for use in a Jupyter notebook\n",
    "#%matplotlib inline\n",
    "import numpy as np\n",
    "import cv2 as cv\n",
    "\n",
    "# Define a function to perform a perspective transform\n",
    "def perspect_transform(img, src, dst):\n",
    "           \n",
    "    M = cv.getPerspectiveTransform(src, dst)\n",
    "    warped = cv.warpPerspective(img, M, (img.shape[1], img.shape[0]))# keep same size as input image\n",
    "    \n",
    "    return warped\n",
    "\n",
    "def color_thresh(img, rgb_thresh=(160, 160, 160)):\n",
    "    # Create an array of zeros same xy size as img, but single channel\n",
    "    color_select = np.zeros_like(img[:,:,0])\n",
    "    # Require that each pixel be above all three threshold values in RGB\n",
    "    # above_thresh will now contain a boolean array with \"True\"\n",
    "    # where threshold was met\n",
    "    above_thresh = (img[:, :, 0] > rgb_thresh[0]) \\\n",
    "                & (img[:, :, 1] > rgb_thresh[1]) \\\n",
    "                & (img[:, :, 2] > rgb_thresh[2])\n",
    "    # Index the array of zeros with the boolean array and set to 1\n",
    "    color_select[above_thresh] = 1\n",
    "    # Return the binary image\n",
    "    return color_select\n",
    "\n",
    "\n",
    "# Read in the same sample image as before\n",
    "img = mpimg.imread('../calibration_images/example_rock2.jpg')\n",
    "\n",
    "\n",
    "dst_size = 5 \n",
    "# Set a bottom offset to account for the fact that the bottom of the image \n",
    "# is not the position of the rover but a bit in front of it\n",
    "# this is just a rough guess, feel free to change it!\n",
    "bottom_offset = 6\n",
    "src = np.float32([[14, 140], [301 ,140],[200, 96], [118, 96]])\n",
    "dest = np.float32([[img.shape[1]/2 - dst_size, img.shape[0] - bottom_offset],\n",
    "                  [img.shape[1]/2 + dst_size, img.shape[0] - bottom_offset],\n",
    "                  [img.shape[1]/2 + dst_size, img.shape[0] - 2*dst_size - bottom_offset], \n",
    "                  [img.shape[1]/2 - dst_size, img.shape[0] - 2*dst_size - bottom_offset],\n",
    "                                                  ])\n",
    "\n",
    "# Assume you have already defined perspect_transform() and color_thresh()\n",
    "warped = perspect_transform(img, src, dest)\n",
    "colorsel = color_thresh(warped, rgb_thresh=(160, 160, 160))\n",
    "\n",
    "# Plot the result\n",
    "plt.imshow(colorsel, cmap='gray')\n",
    "plt.show()"
   ]
  },
  {
   "cell_type": "code",
   "execution_count": null,
   "metadata": {},
   "outputs": [],
   "source": []
  }
 ],
 "metadata": {
  "kernelspec": {
   "display_name": "Python [conda env:RoboND]",
   "language": "python",
   "name": "conda-env-RoboND-py"
  },
  "language_info": {
   "codemirror_mode": {
    "name": "ipython",
    "version": 3
   },
   "file_extension": ".py",
   "mimetype": "text/x-python",
   "name": "python",
   "nbconvert_exporter": "python",
   "pygments_lexer": "ipython3",
   "version": "3.5.2"
  },
  "widgets": {
   "state": {},
   "version": "1.1.2"
  }
 },
 "nbformat": 4,
 "nbformat_minor": 2
}
